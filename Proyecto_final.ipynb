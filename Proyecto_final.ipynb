{
 "cells": [
  {
   "cell_type": "code",
   "execution_count": 11,
   "id": "86a4081c-2122-4bbf-912b-318dfad174d5",
   "metadata": {},
   "outputs": [],
   "source": [
    "import mysql\n",
    "import pandas as pd\n",
    "import mysql.connector as connection\n",
    "from google.cloud import bigquery\n"
   ]
  },
  {
   "cell_type": "code",
   "execution_count": 12,
   "id": "f3c1ad6c-387a-4b61-b865-8ebaddbf71f9",
   "metadata": {},
   "outputs": [],
   "source": [
    "def conexion(host, username, password, database):\n",
    "    try:\n",
    "        mydb = mysql.connector.connect(\n",
    "            host=host,\n",
    "            user=username,\n",
    "            password=password,\n",
    "            database=database\n",
    "        )\n",
    "        print(\"Conectado a BD de MySQL\")\n",
    "        return mydb\n",
    "    except mysql.connector.Error as error:\n",
    "        print(f\"Existe un error: {error}\")"
   ]
  },
  {
   "cell_type": "code",
   "execution_count": 8,
   "id": "61347dd3-2c9d-472a-91e8-f2aba8c8e745",
   "metadata": {},
   "outputs": [
    {
     "name": "stdout",
     "output_type": "stream",
     "text": [
      "Conectado a BD de MySQL\n"
     ]
    }
   ],
   "source": [
    "mydb = conexion(\"34.67.111.151\", \"cliente\", \"123456789\", \"basededatos_cvargas\")"
   ]
  },
  {
   "cell_type": "code",
   "execution_count": 13,
   "id": "8e750fb9-c862-4faf-8a32-6b56aea2569e",
   "metadata": {},
   "outputs": [],
   "source": [
    "tables=['customers','employees','offices','orderdetails','orders','payments','productlines','products']\n",
    "for table in tables:\n",
    "        sql= f\"select* from basededatos_cvargas.{table}\"\n",
    "        df=pd.read_sql(sql,mydb)\n",
    "        client = bigquery.Client()\n",
    "        tabla_id=f\"datapath-379616.dp_dtlk_raw.sysven_{table}_raw\"\n",
    "        tabla_property= client.get_table(tabla_id)\n",
    "        job_configuration=bigquery.LoadJobConfig(\n",
    "             schema=tabla_property.schema,\n",
    "             write_disposition=\"WRITE_TRUNCATE\")\n",
    "        job=client.load_table_from_dataframe(\n",
    "        df,tabla_id,job_config=job_configuration\n",
    "        )"
   ]
  },
  {
   "cell_type": "code",
   "execution_count": 14,
   "id": "20758634-3bc4-4883-a491-7114a808b9ee",
   "metadata": {},
   "outputs": [],
   "source": [
    "mydb.close()"
   ]
  },
  {
   "cell_type": "code",
   "execution_count": null,
   "id": "39f85ed7-f9b8-4e48-8cfe-211f3f25afce",
   "metadata": {},
   "outputs": [],
   "source": []
  }
 ],
 "metadata": {
  "environment": {
   "kernel": "python3",
   "name": "common-cpu.m105",
   "type": "gcloud",
   "uri": "gcr.io/deeplearning-platform-release/base-cpu:m105"
  },
  "kernelspec": {
   "display_name": "Python 3 (ipykernel)",
   "language": "python",
   "name": "python3"
  },
  "language_info": {
   "codemirror_mode": {
    "name": "ipython",
    "version": 3
   },
   "file_extension": ".py",
   "mimetype": "text/x-python",
   "name": "python",
   "nbconvert_exporter": "python",
   "pygments_lexer": "ipython3",
   "version": "3.7.12"
  }
 },
 "nbformat": 4,
 "nbformat_minor": 5
}
